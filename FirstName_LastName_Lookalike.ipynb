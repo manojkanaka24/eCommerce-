{
 "cells": [
  {
   "cell_type": "code",
   "execution_count": 3,
   "id": "d1c47d66-cd1d-4cce-a70a-e4ff6b99d7da",
   "metadata": {},
   "outputs": [],
   "source": [
    "import pandas as pd\n",
    "import numpy as np\n",
    "from sklearn.preprocessing import StandardScaler\n",
    "from sklearn.metrics.pairwise import cosine_similarity\n"
   ]
  },
  {
   "cell_type": "code",
   "execution_count": 4,
   "id": "78bd9c80-3c25-481f-9149-f24a61d0321c",
   "metadata": {},
   "outputs": [
    {
     "name": "stdout",
     "output_type": "stream",
     "text": [
      "  CustomerID        CustomerName         Region  SignupDate\n",
      "0      C0001    Lawrence Carroll  South America  2022-07-10\n",
      "1      C0002      Elizabeth Lutz           Asia  2022-02-13\n",
      "2      C0003      Michael Rivera  South America  2024-03-07\n",
      "3      C0004  Kathleen Rodriguez  South America  2022-10-09\n",
      "4      C0005         Laura Weber           Asia  2022-08-15\n",
      "  TransactionID CustomerID ProductID      TransactionDate  Quantity  \\\n",
      "0        T00001      C0199      P067  2024-08-25 12:38:23         1   \n",
      "1        T00112      C0146      P067  2024-05-27 22:23:54         1   \n",
      "2        T00166      C0127      P067  2024-04-25 07:38:55         1   \n",
      "3        T00272      C0087      P067  2024-03-26 22:55:37         2   \n",
      "4        T00363      C0070      P067  2024-03-21 15:10:10         3   \n",
      "\n",
      "   TotalValue   Price  \n",
      "0      300.68  300.68  \n",
      "1      300.68  300.68  \n",
      "2      300.68  300.68  \n",
      "3      601.36  300.68  \n",
      "4      902.04  300.68  \n",
      "  ProductID              ProductName     Category   Price\n",
      "0      P001     ActiveWear Biography        Books  169.30\n",
      "1      P002    ActiveWear Smartwatch  Electronics  346.30\n",
      "2      P003  ComfortLiving Biography        Books   44.12\n",
      "3      P004            BookWorld Rug   Home Decor   95.69\n",
      "4      P005          TechPro T-Shirt     Clothing  429.31\n"
     ]
    }
   ],
   "source": [
    "# Load the datasets\n",
    "customers = pd.read_csv('Customers.csv')\n",
    "transactions = pd.read_csv('Transactions.csv')\n",
    "products = pd.read_csv('Products.csv')\n",
    "\n",
    "# Display basic info\n",
    "print(customers.head())\n",
    "print(transactions.head())\n",
    "print(products.head())\n"
   ]
  },
  {
   "cell_type": "code",
   "execution_count": 7,
   "id": "43aeef7d-dabd-4d20-9ff5-209ea2dbe698",
   "metadata": {},
   "outputs": [
    {
     "name": "stdout",
     "output_type": "stream",
     "text": [
      "  TransactionID CustomerID ProductID      TransactionDate  Quantity  \\\n",
      "0        T00001      C0199      P067  2024-08-25 12:38:23         1   \n",
      "1        T00112      C0146      P067  2024-05-27 22:23:54         1   \n",
      "2        T00166      C0127      P067  2024-04-25 07:38:55         1   \n",
      "3        T00272      C0087      P067  2024-03-26 22:55:37         2   \n",
      "4        T00363      C0070      P067  2024-03-21 15:10:10         3   \n",
      "\n",
      "   TotalValue  Price_x     CustomerName         Region  SignupDate  \\\n",
      "0      300.68   300.68   Andrea Jenkins         Europe  2022-12-03   \n",
      "1      300.68   300.68  Brittany Harvey           Asia  2024-09-04   \n",
      "2      300.68   300.68  Kathryn Stevens         Europe  2024-04-04   \n",
      "3      601.36   300.68  Travis Campbell  South America  2024-04-11   \n",
      "4      902.04   300.68    Timothy Perez         Europe  2022-03-15   \n",
      "\n",
      "                       ProductName     Category  Price_y  \n",
      "0  ComfortLiving Bluetooth Speaker  Electronics   300.68  \n",
      "1  ComfortLiving Bluetooth Speaker  Electronics   300.68  \n",
      "2  ComfortLiving Bluetooth Speaker  Electronics   300.68  \n",
      "3  ComfortLiving Bluetooth Speaker  Electronics   300.68  \n",
      "4  ComfortLiving Bluetooth Speaker  Electronics   300.68  \n"
     ]
    }
   ],
   "source": [
    "# Merge transactions with customers\n",
    "transactions_customers = transactions.merge(customers, on='CustomerID')\n",
    "\n",
    "# Merge the above with products\n",
    "merged_data = transactions_customers.merge(products, on='ProductID')\n",
    "\n",
    "# Display the merged data\n",
    "print(merged_data.head())\n"
   ]
  },
  {
   "cell_type": "code",
   "execution_count": 9,
   "id": "8e8f8958-5614-4b9f-8c52-9cfbe64b8f1a",
   "metadata": {},
   "outputs": [
    {
     "name": "stdout",
     "output_type": "stream",
     "text": [
      "  CustomerID  TotalValue  Quantity  ProductID     Category  \\\n",
      "0      C0001     3354.52        12          5  Electronics   \n",
      "1      C0002     1862.74        10          4     Clothing   \n",
      "2      C0003     2725.38        14          4   Home Decor   \n",
      "3      C0004     5354.88        23          8        Books   \n",
      "4      C0005     2034.24         7          3  Electronics   \n",
      "\n",
      "         CustomerName         Region  SignupDate  \n",
      "0    Lawrence Carroll  South America  2022-07-10  \n",
      "1      Elizabeth Lutz           Asia  2022-02-13  \n",
      "2      Michael Rivera  South America  2024-03-07  \n",
      "3  Kathleen Rodriguez  South America  2022-10-09  \n",
      "4         Laura Weber           Asia  2022-08-15  \n"
     ]
    }
   ],
   "source": [
    "# Aggregate customer transaction data\n",
    "customer_features = merged_data.groupby('CustomerID').agg({\n",
    "    'TotalValue': 'sum',  # Total spending\n",
    "    'Quantity': 'sum',    # Total quantity purchased\n",
    "    'ProductID': 'nunique',  # Number of unique products bought\n",
    "    'Category': lambda x: x.mode()[0]  # Most purchased category\n",
    "}).reset_index()\n",
    "\n",
    "# Add customer profile details\n",
    "customer_features = customer_features.merge(customers, on='CustomerID')\n",
    "\n",
    "# Display the aggregated features\n",
    "print(customer_features.head())\n"
   ]
  },
  {
   "cell_type": "code",
   "execution_count": 11,
   "id": "cae16e8f-2d9e-4d02-8fb9-bdd4634a693e",
   "metadata": {},
   "outputs": [
    {
     "name": "stdout",
     "output_type": "stream",
     "text": [
      "[[-0.06170143 -0.12203296  0.05004655 -0.53279543 -0.57928445 -0.54831888\n",
      "   1.54041597 -0.71244351 -0.54056248  1.84992492 -0.51721942]\n",
      " [-0.87774353 -0.44800021 -0.42420409  1.87689298 -0.57928445 -0.54831888\n",
      "  -0.6491753  -0.71244351  1.84992492 -0.54056248 -0.51721942]\n",
      " [-0.40585722  0.20393428 -0.42420409 -0.53279543 -0.57928445 -0.54831888\n",
      "   1.54041597 -0.71244351 -0.54056248 -0.54056248  1.93341543]\n",
      " [ 1.03254704  1.67078689  1.47279848 -0.53279543 -0.57928445 -0.54831888\n",
      "   1.54041597  1.40362005 -0.54056248 -0.54056248 -0.51721942]\n",
      " [-0.78392861 -0.93695108 -0.89845473  1.87689298 -0.57928445 -0.54831888\n",
      "  -0.6491753  -0.71244351 -0.54056248  1.84992492 -0.51721942]]\n"
     ]
    }
   ],
   "source": [
    "from sklearn.preprocessing import OneHotEncoder\n",
    "\n",
    "# One-hot encode categorical features (e.g., Region, Category)\n",
    "encoder = OneHotEncoder(sparse_output=False)  # Use sparse_output instead of sparse\n",
    "encoded_region_category = encoder.fit_transform(customer_features[['Region', 'Category']])\n",
    "\n",
    "# Combine encoded features with numerical ones\n",
    "numerical_features = customer_features[['TotalValue', 'Quantity', 'ProductID']].values\n",
    "features = np.hstack((numerical_features, encoded_region_category))\n",
    "\n",
    "# Standardize the numerical features\n",
    "scaler = StandardScaler()\n",
    "features_scaled = scaler.fit_transform(features)\n",
    "\n",
    "# Display the scaled feature matrix\n",
    "print(features_scaled[:5])\n"
   ]
  },
  {
   "cell_type": "code",
   "execution_count": 13,
   "id": "24d681d2-f4df-4d49-979b-55392a80d731",
   "metadata": {},
   "outputs": [
    {
     "name": "stdout",
     "output_type": "stream",
     "text": [
      "CustomerID     C0001     C0002     C0003     C0004     C0005     C0006  \\\n",
      "CustomerID                                                               \n",
      "C0001       1.000000 -0.280048  0.254230  0.170413  0.344343  0.255980   \n",
      "C0002      -0.280048  1.000000 -0.227233 -0.456337  0.449392 -0.360495   \n",
      "C0003       0.254230 -0.227233  1.000000  0.115527 -0.209005  0.250921   \n",
      "C0004       0.170413 -0.456337  0.115527  1.000000 -0.553407  0.644247   \n",
      "C0005       0.344343  0.449392 -0.209005 -0.553407  1.000000 -0.306875   \n",
      "\n",
      "CustomerID     C0007     C0008     C0009     C0010  ...     C0191     C0192  \\\n",
      "CustomerID                                          ...                       \n",
      "C0001       0.350567 -0.230811 -0.231849 -0.299177  ...  0.272573  0.935567   \n",
      "C0002       0.430970 -0.336212  0.466634  0.433026  ... -0.308954 -0.144032   \n",
      "C0003      -0.224532  0.208759 -0.183540 -0.229427  ...  0.260536  0.274864   \n",
      "C0004      -0.519245  0.224978 -0.640452 -0.433110  ...  0.624598 -0.080948   \n",
      "C0005       0.995205 -0.441237  0.071534 -0.120403  ... -0.282087  0.473727   \n",
      "\n",
      "CustomerID     C0193     C0194     C0195     C0196     C0197     C0198  \\\n",
      "CustomerID                                                               \n",
      "C0001      -0.357380 -0.349573  0.240803 -0.300443  0.350877 -0.226015   \n",
      "C0002       0.412718 -0.368717 -0.351859 -0.269639 -0.107767  0.465199   \n",
      "C0003      -0.315209 -0.389348  0.905782  0.366391 -0.214835 -0.159863   \n",
      "C0004       0.010183  0.347145  0.395499 -0.312779 -0.540996 -0.668534   \n",
      "C0005       0.425142 -0.406570 -0.388876 -0.203646  0.483734  0.100689   \n",
      "\n",
      "CustomerID     C0199     C0200  \n",
      "CustomerID                      \n",
      "C0001       0.365391 -0.307292  \n",
      "C0002      -0.134103  0.816280  \n",
      "C0003      -0.245562 -0.301856  \n",
      "C0004      -0.492443 -0.102003  \n",
      "C0005       0.457591  0.213562  \n",
      "\n",
      "[5 rows x 199 columns]\n"
     ]
    }
   ],
   "source": [
    "# Compute cosine similarity\n",
    "similarity_matrix = cosine_similarity(features_scaled)\n",
    "\n",
    "# Convert similarity matrix to a dataframe for easier manipulation\n",
    "similarity_df = pd.DataFrame(similarity_matrix, index=customer_features['CustomerID'], columns=customer_features['CustomerID'])\n",
    "\n",
    "# Display the similarity matrix\n",
    "print(similarity_df.head())\n"
   ]
  },
  {
   "cell_type": "code",
   "execution_count": 15,
   "id": "4d75a519-432c-4c88-a583-7f3772692abd",
   "metadata": {},
   "outputs": [
    {
     "name": "stdout",
     "output_type": "stream",
     "text": [
      "Customer C0001: [('C0048', 0.995290637262074), ('C0190', 0.9906194089322833), ('C0184', 0.9844187291016829)]\n",
      "Customer C0002: [('C0088', 0.98787179707641), ('C0092', 0.9694148762001229), ('C0106', 0.9596061001930802)]\n",
      "Customer C0003: [('C0076', 0.9701860830785703), ('C0031', 0.9677597585275075), ('C0052', 0.9640448202774735)]\n",
      "Customer C0004: [('C0087', 0.9706667188314319), ('C0155', 0.9565486538771887), ('C0169', 0.9527341948287605)]\n",
      "Customer C0005: [('C0186', 0.9990949206275932), ('C0007', 0.9952048431090786), ('C0140', 0.9893348231608935)]\n"
     ]
    }
   ],
   "source": [
    "# Function to get top 3 similar customers for each customer\n",
    "def get_top_3_similar(similarity_df, customer_id):\n",
    "    # Sort customers by similarity score (descending) and exclude the customer themselves\n",
    "    similar_customers = similarity_df.loc[customer_id].sort_values(ascending=False).iloc[1:4]\n",
    "    return similar_customers.index.tolist(), similar_customers.values.tolist()\n",
    "\n",
    "# Create a dictionary to store lookalike customers and their similarity scores\n",
    "lookalike_dict = {}\n",
    "\n",
    "for customer_id in customer_features['CustomerID']:\n",
    "    similar_ids, scores = get_top_3_similar(similarity_df, customer_id)\n",
    "    lookalike_dict[customer_id] = list(zip(similar_ids, scores))\n",
    "\n",
    "# Display lookalike results for the first few customers\n",
    "for customer_id, lookalikes in list(lookalike_dict.items())[:5]:\n",
    "    print(f\"Customer {customer_id}: {lookalikes}\")\n"
   ]
  },
  {
   "cell_type": "code",
   "execution_count": 17,
   "id": "3a916848-c2b7-4cc1-b5b2-7aeb814d4b9f",
   "metadata": {},
   "outputs": [
    {
     "name": "stdout",
     "output_type": "stream",
     "text": [
      "  cust_id lookalike_cust_id     score\n",
      "0   C0001             C0048  0.995291\n",
      "1   C0001             C0190  0.990619\n",
      "2   C0001             C0184  0.984419\n",
      "3   C0002             C0088  0.987872\n",
      "4   C0002             C0092  0.969415\n"
     ]
    }
   ],
   "source": [
    "# Filter the first 20 customers (C0001 to C0020)\n",
    "lookalike_results = []\n",
    "\n",
    "for customer_id in customer_features['CustomerID'][:20]:\n",
    "    lookalikes = lookalike_dict[customer_id]\n",
    "    for similar_id, score in lookalikes:\n",
    "        lookalike_results.append({'cust_id': customer_id, 'lookalike_cust_id': similar_id, 'score': score})\n",
    "\n",
    "# Convert results to a DataFrame\n",
    "lookalike_df = pd.DataFrame(lookalike_results)\n",
    "\n",
    "# Save to CSV\n",
    "lookalike_df.to_csv('FirstName_LastName_Lookalike.csv', index=False)\n",
    "\n",
    "# Display the saved results\n",
    "print(lookalike_df.head())\n"
   ]
  },
  {
   "cell_type": "code",
   "execution_count": null,
   "id": "b2e84eb8-5609-451a-88f3-39beaf395d36",
   "metadata": {},
   "outputs": [],
   "source": []
  }
 ],
 "metadata": {
  "kernelspec": {
   "display_name": "Python [conda env:base] *",
   "language": "python",
   "name": "conda-base-py"
  },
  "language_info": {
   "codemirror_mode": {
    "name": "ipython",
    "version": 3
   },
   "file_extension": ".py",
   "mimetype": "text/x-python",
   "name": "python",
   "nbconvert_exporter": "python",
   "pygments_lexer": "ipython3",
   "version": "3.12.7"
  }
 },
 "nbformat": 4,
 "nbformat_minor": 5
}
